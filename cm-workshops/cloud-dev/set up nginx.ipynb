{
 "cells": [
  {
   "cell_type": "code",
   "execution_count": null,
   "metadata": {},
   "outputs": [],
   "source": [
    "helm repo add ingress-nginx https://kubernetes.github.io/ingress-nginx\n",
    "helm repo update\n",
    "\n",
    "helm install ingress-nginx ingress-nginx/ingress-nginx"
   ]
  },
  {
   "cell_type": "code",
   "execution_count": null,
   "metadata": {},
   "outputs": [],
   "source": [
    "PUBLIC_IP=$(eval kubectl get svc ingress-nginx-controller -o=jsonpath='{.status.loadBalancer.ingress[0].ip}')\n",
    "echo $PUBLIC_IP\n",
    "RES_NAME=`az network public-ip list --query \"[?ipAddress!=null]|[?contains(ipAddress, '$PUBLIC_IP')].[id]\" --output tsv`\n",
    "#RES_NAME=$(eval az network public-ip list --query \"[?ipAddress!=null]|[?contains(ipAddress, '$PUBLIC_IP')].[id]\" --output tsv)\n",
    "echo $RES_NAME\n",
    "az network public-ip update --ids $RES_NAME --dns-name potsdam-softwareentwicklung-de"
   ]
  },
  {
   "cell_type": "code",
   "execution_count": null,
   "metadata": {},
   "outputs": [],
   "source": []
  }
 ],
 "metadata": {
  "kernelspec": {
   "display_name": "Bash",
   "language": "bash",
   "name": "bash"
  },
  "language_info": {
   "codemirror_mode": "shell",
   "file_extension": ".sh",
   "mimetype": "text/x-sh",
   "name": "bash"
  }
 },
 "nbformat": 4,
 "nbformat_minor": 4
}
