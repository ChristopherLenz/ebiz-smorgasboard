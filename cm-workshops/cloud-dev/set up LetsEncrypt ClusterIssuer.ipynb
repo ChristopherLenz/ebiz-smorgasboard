{
 "cells": [
  {
   "cell_type": "code",
   "execution_count": null,
   "metadata": {},
   "outputs": [],
   "source": [
    "#helm repo add jetstack https://charts.jetstack.io\n",
    "#helm repo update\n",
    "#helm upgrade cert-manager jetstack/cert-manager --install --set ingressShim.defaultIssuerName=letsencrypt --set ingressShim.defaultIssuerKind=ClusterIssuer --set installCRDs=true\n",
    "kubectl apply -f $PATH_TERRASPACE/letsencrypt_clusterIssuer.yaml"
   ]
  },
  {
   "cell_type": "raw",
   "metadata": {},
   "source": []
  }
 ],
 "metadata": {
  "kernelspec": {
   "display_name": "Bash",
   "language": "bash",
   "name": "bash"
  },
  "language_info": {
   "codemirror_mode": "shell",
   "file_extension": ".sh",
   "mimetype": "text/x-sh",
   "name": "bash"
  }
 },
 "nbformat": 4,
 "nbformat_minor": 4
}
