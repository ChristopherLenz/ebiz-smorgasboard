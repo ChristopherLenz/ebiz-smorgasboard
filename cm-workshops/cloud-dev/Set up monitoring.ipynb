{
 "cells": [
  {
   "cell_type": "code",
   "execution_count": null,
   "metadata": {},
   "outputs": [],
   "source": [
    "AZURE_RES_NAME=cm-cloud-ws-dev-resources\n",
    "AZURE_AKS_NAME=cm-cloud-ws-dev-aks"
   ]
  },
  {
   "cell_type": "code",
   "execution_count": null,
   "metadata": {},
   "outputs": [],
   "source": [
    "az aks get-credentials --resource-group $AZURE_RES_NAME --name $AZURE_AKS_NAME\n",
    "kubectl cluster-info"
   ]
  },
  {
   "cell_type": "code",
   "execution_count": null,
   "metadata": {},
   "outputs": [],
   "source": [
    "# see: https://github.com/grafana/loki\n",
    "# see: https://hub.helm.sh/charts/stable/grafana\n",
    "# see: https://github.com/grafana/loki/tree/master/production/helm/loki-stack\n",
    "\n",
    "kubectl create ns grafana || true\n",
    "helm repo add loki https://grafana.github.io/loki/charts\n",
    "helm repo update\n",
    "helm upgrade --install loki loki/loki-stack \\\n",
    "    --set grafana.ingress.enabled=true,grafana.ingress.annotations.\"kubernetes\\.io/ingress\\.class\"=\"addon-http-application-routing\",grafana.ingress.path=\"/\",grafana.enabled=true,grafana.plugins={\"grafana-piechart-panel\"},prometheus.enabled=true,prometheus.ruleNamespaceSelector.any=true,prometheus.prometheusSpec.ruleSelector.matchLabels.role=\"my-rules\",prometheus.alertmanager.persistentVolume.enabled=false,prometheus.server.persistentVolume.enabled=false \\\n",
    "    --namespace=\"grafana\" --wait\n",
    "\n",
    "# ,grafana.ingress.hosts[0]=$GRAFANA_URL"
   ]
  },
  {
   "cell_type": "code",
   "execution_count": null,
   "metadata": {},
   "outputs": [],
   "source": [
    "GRAFANA_PWD=$(kubectl get secret --namespace grafana loki-grafana -o jsonpath=\"{.data.admin-password}\" | base64 --decode ; echo)\n",
    "echo \"Grafana is installed and you can connect via user 'admin' and password '$GRAFANA_PWD'\"\n",
    "echo \"\"\n",
    "echo \"if no external traffic routing is installed do following\"\n",
    "echo \"run 'kubectl port-forward --namespace grafana service/loki-grafana 3000:80'\"\n",
    "echo \"open 'http://localhost:3000/'\""
   ]
  },
  {
   "cell_type": "code",
   "execution_count": null,
   "metadata": {},
   "outputs": [],
   "source": [
    "helm uninstall loki --namespace=\"grafana\""
   ]
  },
  {
   "cell_type": "code",
   "execution_count": null,
   "metadata": {},
   "outputs": [],
   "source": [
    "kubectl logs -h"
   ]
  },
  {
   "cell_type": "code",
   "execution_count": null,
   "metadata": {},
   "outputs": [],
   "source": []
  }
 ],
 "metadata": {
  "kernelspec": {
   "display_name": "Bash",
   "language": "bash",
   "name": "bash"
  },
  "language_info": {
   "codemirror_mode": "shell",
   "file_extension": ".sh",
   "mimetype": "text/x-sh",
   "name": "bash"
  }
 },
 "nbformat": 4,
 "nbformat_minor": 4
}
