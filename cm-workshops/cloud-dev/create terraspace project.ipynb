{
 "cells": [
  {
   "cell_type": "code",
   "execution_count": null,
   "metadata": {},
   "outputs": [],
   "source": [
    "PATH_TERRASPACE=~/dev/ebiz/cm-workshops/cloud-dev\n",
    "PATH_TERRASPACE_AZURE_CHECK=~/dev/tools/azure_check/azure_check.rb\n",
    "\n",
    "# load credentials into env-vars\n",
    "source $PATH_TERRASPACE/credentials.env\n",
    "\n",
    "terraspace check_setup\n",
    "\n",
    "ruby $PATH_TERRASPACE_AZURE_CHECK"
   ]
  },
  {
   "cell_type": "code",
   "execution_count": null,
   "metadata": {},
   "outputs": [],
   "source": [
    "az account list-locations --query \"sort_by([].{DisplayName:displayName, Name:name}, &DisplayName)\" --output table\n",
    "az configure --defaults location=germanywestcentral"
   ]
  },
  {
   "cell_type": "code",
   "execution_count": null,
   "metadata": {},
   "outputs": [],
   "source": [
    "# https://stackoverflow.com/questions/36200143/the-subscription-is-not-registered-to-use-namespace-microsoft-datafactory-error\n",
    "# https://docs.microsoft.com/en-us/cli/azure/provider?view=azure-cli-latest#az_provider_register\n",
    "az provider register --namespace \"Microsoft.Storage\" --subscription $ARM_SUBSCRIPTION_ID\n",
    "az provider register --namespace \"Microsoft.DBforPostgreSQL\" --subscription $ARM_SUBSCRIPTION_ID"
   ]
  },
  {
   "cell_type": "code",
   "execution_count": null,
   "metadata": {},
   "outputs": [],
   "source": [
    "cd $PATH_TERRASPACE/infra\n",
    "terraspace fmt\n",
    "terraspace list\n",
    "terraspace summary --verbose"
   ]
  },
  {
   "cell_type": "code",
   "execution_count": null,
   "metadata": {},
   "outputs": [],
   "source": [
    "cd $PATH_TERRASPACE\n",
    "terraspace new project infra --plugin azurerm --examples\n",
    "tree infra"
   ]
  },
  {
   "cell_type": "code",
   "execution_count": null,
   "metadata": {},
   "outputs": [],
   "source": [
    "cd $PATH_TERRASPACE/infra\n",
    "terraspace new module aks\n",
    "terraspace new module postgres\n",
    "terraspace new module keyvault"
   ]
  },
  {
   "cell_type": "code",
   "execution_count": null,
   "metadata": {},
   "outputs": [],
   "source": [
    "cd $PATH_TERRASPACE/infra\n",
    "terraspace new stack kubernetes"
   ]
  },
  {
   "cell_type": "code",
   "execution_count": null,
   "metadata": {},
   "outputs": [],
   "source": [
    "cd $PATH_TERRASPACE/infra\n",
    "terraspace seed kubernetes"
   ]
  },
  {
   "cell_type": "code",
   "execution_count": null,
   "metadata": {},
   "outputs": [],
   "source": [
    "cd $PATH_TERRASPACE/infra\n",
    "#TS_ENV=dev ARM_LOCATION=eastus terraspace plan kubernetes\n",
    "TS_ENV=dev ARM_LOCATION=germanywestcentral terraspace plan kubernetes"
   ]
  },
  {
   "cell_type": "code",
   "execution_count": null,
   "metadata": {},
   "outputs": [],
   "source": [
    "cd $PATH_TERRASPACE/infra\n",
    "echo $PATH_TERRASPACE/infra\n",
    "TS_ENV=dev ARM_LOCATION=germanywestcentral terraspace all graph --format text"
   ]
  },
  {
   "cell_type": "code",
   "execution_count": null,
   "metadata": {},
   "outputs": [],
   "source": [
    "cd $PATH_TERRASPACE/infra\n",
    "TS_ENV=dev ARM_LOCATION=germanywestcentral terraspace all plan"
   ]
  },
  {
   "cell_type": "code",
   "execution_count": null,
   "metadata": {},
   "outputs": [],
   "source": [
    "cd $PATH_TERRASPACE/infra\n",
    "TS_ENV=dev ARM_LOCATION=germanywestcentral terraspace all up --yes\n",
    "az aks get-credentials --resource-group cm-cloud-ws-dev-resources --name cm-cloud-ws-dev-aks"
   ]
  },
  {
   "cell_type": "code",
   "execution_count": null,
   "metadata": {},
   "outputs": [],
   "source": [
    "cd $PATH_TERRASPACE/infra\n",
    "TS_ENV=test ARM_LOCATION=germanywestcentral terraspace all up --yes\n",
    "az aks get-credentials --resource-group cm-cloud-ws-test-resources --name cm-cloud-ws-test-aks"
   ]
  },
  {
   "cell_type": "code",
   "execution_count": null,
   "metadata": {},
   "outputs": [],
   "source": [
    "TS_ENV=dev ARM_LOCATION=germanywestcentral terraspace all down --yes\n",
    "#TS_ENV=test ARM_LOCATION=germanywestcentral terraspace all down --yes"
   ]
  },
  {
   "cell_type": "raw",
   "metadata": {},
   "source": []
  },
  {
   "cell_type": "code",
   "execution_count": null,
   "metadata": {},
   "outputs": [],
   "source": []
  }
 ],
 "metadata": {
  "kernelspec": {
   "display_name": "Bash",
   "language": "bash",
   "name": "bash"
  },
  "language_info": {
   "codemirror_mode": "shell",
   "file_extension": ".sh",
   "mimetype": "text/x-sh",
   "name": "bash"
  }
 },
 "nbformat": 4,
 "nbformat_minor": 4
}
