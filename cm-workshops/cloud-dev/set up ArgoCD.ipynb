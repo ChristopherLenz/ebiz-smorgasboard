{
 "cells": [
  {
   "cell_type": "code",
   "execution_count": null,
   "metadata": {},
   "outputs": [],
   "source": [
    "cd $PATH_TERRASPACE\n",
    "#kubectl create ns argocd || true\n",
    "#helm repo add argo https://argoproj.github.io/argo-helm\n",
    "helm upgrade argocd argo/argo-cd --install --namespace argocd -f $PATH_TERRASPACE/argo-values.yaml\n",
    "\n",
    "kubectl -n argocd get secret argocd-initial-admin-secret -o jsonpath=\"{.data.password}\" | base64 -d"
   ]
  },
  {
   "cell_type": "raw",
   "metadata": {},
   "source": []
  }
 ],
 "metadata": {
  "kernelspec": {
   "display_name": "Bash",
   "language": "bash",
   "name": "bash"
  },
  "language_info": {
   "codemirror_mode": "shell",
   "file_extension": ".sh",
   "mimetype": "text/x-sh",
   "name": "bash"
  }
 },
 "nbformat": 4,
 "nbformat_minor": 4
}
